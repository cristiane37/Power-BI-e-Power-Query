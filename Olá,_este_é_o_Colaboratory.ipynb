{
  "nbformat": 4,
  "nbformat_minor": 0,
  "metadata": {
    "colab": {
      "name": "Olá, este é o Colaboratory",
      "provenance": [],
      "collapsed_sections": [],
      "include_colab_link": true
    },
    "kernelspec": {
      "display_name": "Python 3",
      "name": "python3"
    }
  },
  "cells": [
    {
      "cell_type": "markdown",
      "metadata": {
        "id": "view-in-github",
        "colab_type": "text"
      },
      "source": [
        "<a href=\"https://colab.research.google.com/github/cristiane37/Power-BI-e-Power-Query/blob/main/Ol%C3%A1%2C_este_%C3%A9_o_Colaboratory.ipynb\" target=\"_parent\"><img src=\"https://colab.research.google.com/assets/colab-badge.svg\" alt=\"Open In Colab\"/></a>"
      ]
    },
    {
      "cell_type": "markdown",
      "metadata": {
        "id": "SXHcKG0jVeDS"
      },
      "source": [
        "# Aula 2 - Tema 2"
      ]
    },
    {
      "cell_type": "markdown",
      "metadata": {
        "id": "UireuLaaSLgx"
      },
      "source": [
        "**O primeiro programa**"
      ]
    },
    {
      "cell_type": "code",
      "metadata": {
        "id": "GXr9-6guSgXY",
        "outputId": "39178b71-fc04-4570-f692-b0f967e5ab77",
        "colab": {
          "base_uri": "https://localhost:8080/"
        }
      },
      "source": [
        "print ('Olá, mundo!')"
      ],
      "execution_count": 25,
      "outputs": [
        {
          "output_type": "stream",
          "text": [
            "Olá, mundo!\n"
          ],
          "name": "stdout"
        }
      ]
    },
    {
      "cell_type": "code",
      "metadata": {
        "id": "oKci10ZHV1bt",
        "outputId": "438b3cd6-587c-4716-ebee-a695342b26ff",
        "colab": {
          "base_uri": "https://localhost:8080/"
        }
      },
      "source": [
        "print(\"Eu estou aprendendo Python\")"
      ],
      "execution_count": 26,
      "outputs": [
        {
          "output_type": "stream",
          "text": [
            "Eu estou aprendendo Python\n"
          ],
          "name": "stdout"
        }
      ]
    },
    {
      "cell_type": "markdown",
      "metadata": {
        "id": "km_3XepmWLyl"
      },
      "source": [
        "**Operações aritméticas**\r\n"
      ]
    },
    {
      "cell_type": "code",
      "metadata": {
        "id": "Pi_polo0Wnhp",
        "outputId": "8211b062-eb8b-4a3c-a4a2-0e3994eb4860",
        "colab": {
          "base_uri": "https://localhost:8080/"
        }
      },
      "source": [
        "print(2+3)"
      ],
      "execution_count": 27,
      "outputs": [
        {
          "output_type": "stream",
          "text": [
            "5\n"
          ],
          "name": "stdout"
        }
      ]
    },
    {
      "cell_type": "code",
      "metadata": {
        "id": "hg7SPy7iWdnG",
        "outputId": "c65f48a6-88b3-4a4d-d8db-cc577356ab2a",
        "colab": {
          "base_uri": "https://localhost:8080/"
        }
      },
      "source": [
        "print('2+3')"
      ],
      "execution_count": 28,
      "outputs": [
        {
          "output_type": "stream",
          "text": [
            "2+3\n"
          ],
          "name": "stdout"
        }
      ]
    },
    {
      "cell_type": "markdown",
      "metadata": {
        "id": "M1ueE26jW4-z"
      },
      "source": [
        "**Concatenação com print **\r\n"
      ]
    },
    {
      "cell_type": "code",
      "metadata": {
        "id": "N8e4bMeoWyza",
        "outputId": "4b6f6e97-2c45-4cdb-c44d-676b949caf53",
        "colab": {
          "base_uri": "https://localhost:8080/"
        }
      },
      "source": [
        "print('2'+'3')"
      ],
      "execution_count": 29,
      "outputs": [
        {
          "output_type": "stream",
          "text": [
            "23\n"
          ],
          "name": "stdout"
        }
      ]
    },
    {
      "cell_type": "markdown",
      "metadata": {
        "id": "1hm_GVMUZBD8"
      },
      "source": [
        "É possível efetuar a concatenação com a vírgula quando há apenas texto"
      ]
    },
    {
      "cell_type": "code",
      "metadata": {
        "id": "zVIw67raYCnq",
        "outputId": "99949474-3b1b-4002-f8a6-503403fe4cab",
        "colab": {
          "base_uri": "https://localhost:8080/"
        }
      },
      "source": [
        "print('Olá,'+'mundo')\r\n",
        "print('Olá,','mundo!') "
      ],
      "execution_count": 30,
      "outputs": [
        {
          "output_type": "stream",
          "text": [
            "Olá,mundo\n",
            "Olá, mundo!\n"
          ],
          "name": "stdout"
        }
      ]
    },
    {
      "cell_type": "markdown",
      "metadata": {
        "id": "0D81BFzIZYdI"
      },
      "source": [
        "**Concatenando texto com equação aritmética**\r\n"
      ]
    },
    {
      "cell_type": "code",
      "metadata": {
        "id": "MWJmn0NzZj_r",
        "outputId": "f92254d6-fdf5-4005-f1e3-52e7a095886d",
        "colab": {
          "base_uri": "https://localhost:8080/"
        }
      },
      "source": [
        "print('A soma de 2 + 3 é',2+3)"
      ],
      "execution_count": 31,
      "outputs": [
        {
          "output_type": "stream",
          "text": [
            "A soma de 2 + 3 é 5\n"
          ],
          "name": "stdout"
        }
      ]
    },
    {
      "cell_type": "markdown",
      "metadata": {
        "id": "xl0cwJV8bJ-C"
      },
      "source": [
        "**Operadores e operações matemáticas**\r\n"
      ]
    },
    {
      "cell_type": "code",
      "metadata": {
        "id": "oeZIgUb5a3jl",
        "outputId": "fc6927de-bc20-47e6-cd55-63fae22e26f5",
        "colab": {
          "base_uri": "https://localhost:8080/"
        }
      },
      "source": [
        "print(10*(5+7)/4)"
      ],
      "execution_count": 32,
      "outputs": [
        {
          "output_type": "stream",
          "text": [
            "30.0\n"
          ],
          "name": "stdout"
        }
      ]
    },
    {
      "cell_type": "code",
      "metadata": {
        "id": "se8d1iLqbCYb",
        "outputId": "39ec6993-0f58-4bcc-9a47-f3de3bce2138",
        "colab": {
          "base_uri": "https://localhost:8080/"
        }
      },
      "source": [
        "print(10*(5+7/4))"
      ],
      "execution_count": 33,
      "outputs": [
        {
          "output_type": "stream",
          "text": [
            "67.5\n"
          ],
          "name": "stdout"
        }
      ]
    },
    {
      "cell_type": "markdown",
      "metadata": {
        "id": "NW5AEpBZcg6D"
      },
      "source": [
        "# Nova seção"
      ]
    }
  ]
}